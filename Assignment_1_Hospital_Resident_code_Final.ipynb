{
 "cells": [
  {
   "cell_type": "code",
   "execution_count": 52,
   "metadata": {},
   "outputs": [],
   "source": [
    "import collections\n",
    "import copy\n",
    "import pandas as pd\n",
    "import xlsxwriter\n",
    "import numpy as np"
   ]
  },
  {
   "cell_type": "code",
   "execution_count": 53,
   "metadata": {},
   "outputs": [
    {
     "name": "stdout",
     "output_type": "stream",
     "text": [
      "Use the csv file as an input file\n",
      "Enter the name of the input file to test the matchingInput_file.csv\n"
     ]
    }
   ],
   "source": [
    "#Passing the input file name dynamically \n",
    "# We have used csv file to test the program\n",
    "print(\"Use the csv file as an input file\")\n",
    "InputFileName = input('Enter the name of the input file to test the matching')\n",
    "InputFileName\n",
    "# we have used csv file to take the input\n",
    "data=pd.read_csv(InputFileName,header=None)"
   ]
  },
  {
   "cell_type": "code",
   "execution_count": 54,
   "metadata": {},
   "outputs": [
    {
     "data": {
      "text/html": [
       "<div>\n",
       "<style scoped>\n",
       "    .dataframe tbody tr th:only-of-type {\n",
       "        vertical-align: middle;\n",
       "    }\n",
       "\n",
       "    .dataframe tbody tr th {\n",
       "        vertical-align: top;\n",
       "    }\n",
       "\n",
       "    .dataframe thead th {\n",
       "        text-align: right;\n",
       "    }\n",
       "</style>\n",
       "<table border=\"1\" class=\"dataframe\">\n",
       "  <thead>\n",
       "    <tr style=\"text-align: right;\">\n",
       "      <th></th>\n",
       "      <th>0</th>\n",
       "      <th>1</th>\n",
       "      <th>2</th>\n",
       "      <th>3</th>\n",
       "      <th>4</th>\n",
       "      <th>5</th>\n",
       "      <th>6</th>\n",
       "    </tr>\n",
       "  </thead>\n",
       "  <tbody>\n",
       "    <tr>\n",
       "      <th>0</th>\n",
       "      <td>Mercy</td>\n",
       "      <td>2</td>\n",
       "      <td>Darrius</td>\n",
       "      <td>Joseph</td>\n",
       "      <td>NaN</td>\n",
       "      <td>NaN</td>\n",
       "      <td>NaN</td>\n",
       "    </tr>\n",
       "    <tr>\n",
       "      <th>1</th>\n",
       "      <td>City</td>\n",
       "      <td>2</td>\n",
       "      <td>Darrius</td>\n",
       "      <td>Arthur</td>\n",
       "      <td>Sunny</td>\n",
       "      <td>Latha</td>\n",
       "      <td>Joseph</td>\n",
       "    </tr>\n",
       "    <tr>\n",
       "      <th>2</th>\n",
       "      <td>General</td>\n",
       "      <td>2</td>\n",
       "      <td>Darrius</td>\n",
       "      <td>Arthur</td>\n",
       "      <td>Joseph</td>\n",
       "      <td>Latha</td>\n",
       "      <td>NaN</td>\n",
       "    </tr>\n",
       "    <tr>\n",
       "      <th>3</th>\n",
       "      <td>NaN</td>\n",
       "      <td>NaN</td>\n",
       "      <td>NaN</td>\n",
       "      <td>NaN</td>\n",
       "      <td>NaN</td>\n",
       "      <td>NaN</td>\n",
       "      <td>NaN</td>\n",
       "    </tr>\n",
       "    <tr>\n",
       "      <th>4</th>\n",
       "      <td>Arthur</td>\n",
       "      <td>City</td>\n",
       "      <td>NaN</td>\n",
       "      <td>NaN</td>\n",
       "      <td>NaN</td>\n",
       "      <td>NaN</td>\n",
       "      <td>NaN</td>\n",
       "    </tr>\n",
       "    <tr>\n",
       "      <th>5</th>\n",
       "      <td>Sunny</td>\n",
       "      <td>City</td>\n",
       "      <td>Mercy</td>\n",
       "      <td>NaN</td>\n",
       "      <td>NaN</td>\n",
       "      <td>NaN</td>\n",
       "      <td>NaN</td>\n",
       "    </tr>\n",
       "    <tr>\n",
       "      <th>6</th>\n",
       "      <td>Joseph</td>\n",
       "      <td>City</td>\n",
       "      <td>General</td>\n",
       "      <td>Mercy</td>\n",
       "      <td>NaN</td>\n",
       "      <td>NaN</td>\n",
       "      <td>NaN</td>\n",
       "    </tr>\n",
       "    <tr>\n",
       "      <th>7</th>\n",
       "      <td>Latha</td>\n",
       "      <td>Mercy</td>\n",
       "      <td>City</td>\n",
       "      <td>General</td>\n",
       "      <td>NaN</td>\n",
       "      <td>NaN</td>\n",
       "      <td>NaN</td>\n",
       "    </tr>\n",
       "    <tr>\n",
       "      <th>8</th>\n",
       "      <td>Darrius</td>\n",
       "      <td>City</td>\n",
       "      <td>Mercy</td>\n",
       "      <td>General</td>\n",
       "      <td>NaN</td>\n",
       "      <td>NaN</td>\n",
       "      <td>NaN</td>\n",
       "    </tr>\n",
       "  </tbody>\n",
       "</table>\n",
       "</div>"
      ],
      "text/plain": [
       "         0      1        2        3       4      5       6\n",
       "0    Mercy      2  Darrius   Joseph     NaN    NaN     NaN\n",
       "1     City      2  Darrius   Arthur   Sunny  Latha  Joseph\n",
       "2  General      2  Darrius   Arthur  Joseph  Latha     NaN\n",
       "3      NaN    NaN      NaN      NaN     NaN    NaN     NaN\n",
       "4   Arthur   City      NaN      NaN     NaN    NaN     NaN\n",
       "5    Sunny   City    Mercy      NaN     NaN    NaN     NaN\n",
       "6   Joseph   City  General    Mercy     NaN    NaN     NaN\n",
       "7    Latha  Mercy     City  General     NaN    NaN     NaN\n",
       "8  Darrius   City    Mercy  General     NaN    NaN     NaN"
      ]
     },
     "execution_count": 54,
     "metadata": {},
     "output_type": "execute_result"
    }
   ],
   "source": [
    "# Displaying the input data in the dataframe named data\n",
    "data "
   ]
  },
  {
   "cell_type": "code",
   "execution_count": 55,
   "metadata": {},
   "outputs": [
    {
     "name": "stdout",
     "output_type": "stream",
     "text": [
      "         0  1        2       3       4      5       6\n",
      "0    Mercy  2  Darrius  Joseph     NaN    NaN     NaN\n",
      "1     City  2  Darrius  Arthur   Sunny  Latha  Joseph\n",
      "2  General  2  Darrius  Arthur  Joseph  Latha     NaN\n",
      "\n",
      "         0      1        2        3    4    5    6\n",
      "4   Arthur   City      NaN      NaN  NaN  NaN  NaN\n",
      "5    Sunny   City    Mercy      NaN  NaN  NaN  NaN\n",
      "6   Joseph   City  General    Mercy  NaN  NaN  NaN\n",
      "7    Latha  Mercy     City  General  NaN  NaN  NaN\n",
      "8  Darrius   City    Mercy  General  NaN  NaN  NaN\n"
     ]
    }
   ],
   "source": [
    "# spliting the dataframe data into two separate dataframes, one for hospital and the other for resident as per the blank line in the input file\n",
    "df_list = np.split(data, data[data.isnull().all(1)].index) \n",
    "df1 = df_list[0]\n",
    "\n",
    "#Printing the Hospital dataframe\n",
    "print(df1)\n",
    "print()\n",
    "\n",
    "#Printing the resident dataframe\n",
    "df2 = df_list[1].dropna(how='all')\n",
    "print(df2)"
   ]
  },
  {
   "cell_type": "code",
   "execution_count": 56,
   "metadata": {},
   "outputs": [
    {
     "data": {
      "text/plain": [
       "{'Mercy': 2, 'City': 2, 'General': 2}"
      ]
     },
     "execution_count": 56,
     "metadata": {},
     "output_type": "execute_result"
    }
   ],
   "source": [
    "# Creating a new dictionary which is storing the hospital name and the number of slots or vacancy.\n",
    "slotsAvailable= dict([(i,int(a)) for i,a in zip(df1[0], df1[1])])\n",
    "\n",
    "#Printing the dictionary containing the hospital name and their number of vacancy or slots.\n",
    "slotsAvailable"
   ]
  },
  {
   "cell_type": "code",
   "execution_count": 57,
   "metadata": {},
   "outputs": [
    {
     "name": "stdout",
     "output_type": "stream",
     "text": [
      "0    Mercy     City  General\n",
      "1        2        2        2\n",
      "2  Darrius  Darrius  Darrius\n",
      "3   Joseph   Arthur   Arthur\n",
      "4      NaN    Sunny   Joseph\n",
      "5      NaN    Latha    Latha\n",
      "6      NaN   Joseph      NaN\n"
     ]
    }
   ],
   "source": [
    "# Taking the transpose of hospital dataframe\n",
    "df1.set_index(0, inplace=True)\n",
    "Hospital_Transpose=df1.T\n",
    "print(Hospital_Transpose)  "
   ]
  },
  {
   "cell_type": "code",
   "execution_count": 58,
   "metadata": {},
   "outputs": [
    {
     "name": "stdout",
     "output_type": "stream",
     "text": [
      "0 Arthur  Sunny   Joseph    Latha  Darrius\n",
      "1   City   City     City    Mercy     City\n",
      "2    NaN  Mercy  General     City    Mercy\n",
      "3    NaN    NaN    Mercy  General  General\n",
      "4    NaN    NaN      NaN      NaN      NaN\n",
      "5    NaN    NaN      NaN      NaN      NaN\n",
      "6    NaN    NaN      NaN      NaN      NaN\n"
     ]
    }
   ],
   "source": [
    "# Taking the transpose of the resident dataframe\n",
    "df2.set_index(0, inplace=True)\n",
    "Resident_Transpose=df2.T\n",
    "print(Resident_Transpose)"
   ]
  },
  {
   "cell_type": "code",
   "execution_count": 59,
   "metadata": {},
   "outputs": [
    {
     "name": "stdout",
     "output_type": "stream",
     "text": [
      "0    Mercy     City  General\n",
      "2  Darrius  Darrius  Darrius\n",
      "3   Joseph   Arthur   Arthur\n",
      "4      NaN    Sunny   Joseph\n",
      "5      NaN    Latha    Latha\n",
      "6      NaN   Joseph      NaN\n",
      "\n",
      "0 Arthur  Sunny   Joseph    Latha  Darrius\n",
      "1   City   City     City    Mercy     City\n",
      "2    NaN  Mercy  General     City    Mercy\n",
      "3    NaN    NaN    Mercy  General  General\n",
      "4    NaN    NaN      NaN      NaN      NaN\n",
      "5    NaN    NaN      NaN      NaN      NaN\n",
      "6    NaN    NaN      NaN      NaN      NaN\n"
     ]
    }
   ],
   "source": [
    "# Removing the number of slots from the hospital dataframe\n",
    "Hospital_Transpose=Hospital_Transpose.drop(Hospital_Transpose.index[0])\n",
    "\n",
    "#Printing the final Hospital Dataframe\n",
    "print(Hospital_Transpose)\n",
    "\n",
    "print()\n",
    "\n",
    "#Printing the final resident dataframe\n",
    "print(Resident_Transpose)\n"
   ]
  },
  {
   "cell_type": "code",
   "execution_count": 60,
   "metadata": {},
   "outputs": [
    {
     "name": "stdout",
     "output_type": "stream",
     "text": [
      "{'Mercy': ['Darrius', 'Joseph', nan, nan, nan], 'City': ['Darrius', 'Arthur', 'Sunny', 'Latha', 'Joseph'], 'General': ['Darrius', 'Arthur', 'Joseph', 'Latha', nan]}\n",
      "\n",
      "{'Arthur': ['City', nan, nan, nan, nan, nan], 'Sunny': ['City', 'Mercy', nan, nan, nan, nan], 'Joseph': ['City', 'General', 'Mercy', nan, nan, nan], 'Latha': ['Mercy', 'City', 'General', nan, nan, nan], 'Darrius': ['City', 'Mercy', 'General', nan, nan, nan]}\n"
     ]
    }
   ],
   "source": [
    "#Converting the Hospital dataframe to dictionary\n",
    "d2=Hospital_Transpose.to_dict('list')\n",
    "\n",
    "# Printing the Hospital in the dictionary form\n",
    "print(d2)\n",
    "\n",
    "print()\n",
    "\n",
    "# Converting the resident dataframe to dictionary\n",
    "d3=Resident_Transpose.to_dict('list')\n",
    "\n",
    "#Printing the Resident dataframe to dictionary\n",
    "print(d3)\n"
   ]
  },
  {
   "cell_type": "code",
   "execution_count": 61,
   "metadata": {},
   "outputs": [
    {
     "name": "stdout",
     "output_type": "stream",
     "text": [
      "{'Arthur': ['City'], 'Sunny': ['City', 'Mercy'], 'Joseph': ['City', 'General', 'Mercy'], 'Latha': ['Mercy', 'City', 'General'], 'Darrius': ['City', 'Mercy', 'General']}\n",
      "\n",
      "{'Mercy': ['Darrius', 'Joseph'], 'City': ['Darrius', 'Arthur', 'Sunny', 'Latha', 'Joseph'], 'General': ['Darrius', 'Arthur', 'Joseph', 'Latha']}\n",
      "\n",
      "{'Mercy': ['Darrius', 'Joseph'], 'City': ['Darrius', 'Arthur', 'Sunny', 'Latha', 'Joseph'], 'General': ['Darrius', 'Arthur', 'Joseph', 'Latha']}\n"
     ]
    }
   ],
   "source": [
    "# Removing the Null or None values from the Resident dictionary\n",
    "choiceOfResident={}\n",
    "for i,j in d3.items():\n",
    "    choiceOfResident[i]=[k for k in j if str(k)!='nan']\n",
    "    \n",
    "# Printing the Resident dictionary after removing the Null or None values\n",
    "print(choiceOfResident)\n",
    "\n",
    "# Printing a blank line to make the the output separated\n",
    "print()\n",
    "\n",
    "# Removing the Null or None values from the Hospital dictionary\n",
    "choiceOfHospital={}\n",
    "for i,j in d2.items():\n",
    "    choiceOfHospital[i]=[k for k in j if str(k)!='nan']\n",
    "    \n",
    "# Printing the Hospital dictionary after removing the Null or None values  \n",
    "print(choiceOfHospital)\n",
    "\n",
    "print()\n",
    "# Removing the Null or None values from the Hospital dictionary\n",
    "\n",
    "hospitalChoice={}\n",
    "for i,j in d2.items():\n",
    "    hospitalChoice[i]=[k for k in j if str(k)!='nan']\n",
    "    \n",
    "# Printing the Hospital dictionary after removing the Null or None values  \n",
    "print(hospitalChoice)"
   ]
  },
  {
   "cell_type": "code",
   "execution_count": 62,
   "metadata": {},
   "outputs": [],
   "source": [
    "# Assinging variables to an empty list\n",
    "residentMatches = {}\n",
    "hospitalMatches = {}\n",
    "freeHospital     = []\n",
    "\n",
    "# Copying the data from Hospital Preference to another dictionay named checkHospital\n",
    "checkHospital    = copy.deepcopy(choiceOfHospital)"
   ]
  },
  {
   "cell_type": "code",
   "execution_count": 63,
   "metadata": {},
   "outputs": [],
   "source": [
    "# Defining the function for the Hospital Resident matching\n",
    "\n",
    "def hospitalresident(hospital):\n",
    "    #Finding the free resident available\n",
    "    print(\"Matching with  %s\"%(hospital))\n",
    "    choiceOfHospital[hospital] = list(checkHospital[hospital])\n",
    "    if(len(choiceOfHospital[hospital]) == 0 or slotsAvailable[hospital] < 1):\n",
    "        freeHospital.remove(hospital) #Removing hospital\n",
    "        print('- hospital %s not have preferred resident or does not have slots. '%(hospital))\n",
    "    else:\n",
    "        for resident in choiceOfHospital[hospital]:\n",
    "            #Checking if resident is matched or not\n",
    "            if residentMatches[resident] == \"\": #resident is available\n",
    "                if hospital not in choiceOfResident[resident]: #the hospital is not present in the list of the residents\n",
    "                    print('- hospital %s does not exist in the preferred list of resident %s '%(hospital, resident))\n",
    "                    checkHospital[hospital].remove(resident)\n",
    "                else:\n",
    "                    residentMatches[resident] = hospital #resident has been matched\n",
    "                    slotsAvailable[hospital]-= 1 #slots in the hospital has been reduced by 1\n",
    "                    print('- %s has been temporarily matched to resident %s '%(hospital, resident))\n",
    "                    break\n",
    "            else: #resident is matched\n",
    "                print('- %s is already matched to %s '%(resident, residentMatches[resident]))\n",
    "                if hospital not in choiceOfResident[resident]: #the hospital is not present in the list of resident\n",
    "                    print('- hospital %s not present in the preferred list of resident %s '%(hospital, resident))\n",
    "                    checkHospital[hospital].remove(resident)\n",
    "                else: #hospital is present in the choice of resident \n",
    "                    if choiceOfResident[resident].index(residentMatches[resident]) < choiceOfResident[resident].index(hospital): #if matched hospital has higher priority\n",
    "                        print('- Priority of hospital %s in choices of resident %s is bigger then current hospital %s  '%(hospital, resident, residentMatches[resident]))\n",
    "                        checkHospital[hospital].remove(resident)\n",
    "                    else: #If matched hospital has lesser priority\n",
    "                        print('- %s is more preferred to %s'%(hospital, residentMatches[resident]))\n",
    "                        print('- Making %s free again by 1 position and tentatively matching %s with %s'%(residentMatches[resident], hospital, resident))\n",
    "                        slotsAvailable[residentMatches[resident]] += 1\n",
    "                        checkHospital[residentMatches[resident]].remove(resident)\n",
    "                        freeHospital.append(residentMatches[resident])\n",
    "                        #The resident has been matched to new hospital\n",
    "                        residentMatches[resident]=hospital\n",
    "                        slotsAvailable[hospital]-=1\n",
    "                        break"
   ]
  },
  {
   "cell_type": "code",
   "execution_count": 64,
   "metadata": {},
   "outputs": [
    {
     "name": "stdout",
     "output_type": "stream",
     "text": [
      "Matching with  Mercy\n",
      "- Mercy has been temporarily matched to resident Darrius \n",
      "Matching with  City\n",
      "- Darrius is already matched to Mercy \n",
      "- City is more preferred to Mercy\n",
      "- Making Mercy free again by 1 position and tentatively matching City with Darrius\n",
      "Matching with  General\n",
      "- Darrius is already matched to City \n",
      "- Priority of hospital General in choices of resident Darrius is bigger then current hospital City  \n",
      "- hospital General does not exist in the preferred list of resident Arthur \n",
      "- General has been temporarily matched to resident Joseph \n",
      "Matching with  Mercy\n",
      "- Joseph is already matched to General \n",
      "- Priority of hospital Mercy in choices of resident Joseph is bigger then current hospital General  \n",
      "Matching with  Mercy\n",
      "- hospital Mercy not have preferred resident or does not have slots. \n",
      "Matching with  General\n",
      "- Joseph is already matched to General \n",
      "- General is more preferred to General\n",
      "- Making General free again by 1 position and tentatively matching General with Joseph\n",
      "Matching with  Mercy\n",
      "- hospital Mercy not have preferred resident or does not have slots. \n",
      "Matching with  City\n",
      "- Darrius is already matched to City \n",
      "- City is more preferred to City\n",
      "- Making City free again by 1 position and tentatively matching City with Darrius\n",
      "Matching with  General\n",
      "- General has been temporarily matched to resident Latha \n",
      "Matching with  General\n",
      "- hospital General not have preferred resident or does not have slots. \n",
      "Matching with  City\n",
      "- City has been temporarily matched to resident Arthur \n",
      "Matching with  General\n",
      "- hospital General not have preferred resident or does not have slots. \n",
      "Matching with  City\n",
      "- hospital City not have preferred resident or does not have slots. \n",
      "Matching with  City\n",
      "- hospital City not have preferred resident or does not have slots. \n",
      "\n",
      "Matching Done\n",
      " {'Arthur': 'City', 'Sunny': '', 'Joseph': 'General', 'Latha': 'General', 'Darrius': 'City'}\n"
     ]
    }
   ],
   "source": [
    "# initializing all hospitals that are unmatched\n",
    "for hospital in choiceOfHospital.keys():\n",
    "    freeHospital.append(hospital)\n",
    "\n",
    "# initializing residentmatches as blank list\n",
    "for resident in choiceOfResident.keys():\n",
    "    residentMatches[resident]=\"\"\n",
    "\n",
    "# Matching until a suitable match occurs and then terminating!\n",
    "i=1\n",
    "while ( len(freeHospital) > 0 ):\n",
    "    for hospital in freeHospital:\n",
    "        hospitalresident(hospital) # Calling the hospital resident function\n",
    "        i=i+1\n",
    "print(\"\\nMatching Done\\n\", residentMatches)    "
   ]
  },
  {
   "cell_type": "code",
   "execution_count": 65,
   "metadata": {},
   "outputs": [
    {
     "data": {
      "text/plain": [
       "dict_items([('Arthur', 'City'), ('Sunny', ''), ('Joseph', 'General'), ('Latha', 'General'), ('Darrius', 'City')])"
      ]
     },
     "execution_count": 65,
     "metadata": {},
     "output_type": "execute_result"
    }
   ],
   "source": [
    "# Printing the Resident to Hospital matching pair which is Stable.   \n",
    "residentMatches.items()"
   ]
  },
  {
   "cell_type": "code",
   "execution_count": 66,
   "metadata": {},
   "outputs": [
    {
     "name": "stdout",
     "output_type": "stream",
     "text": [
      "{'Mercy': ['', ''], 'City': ['Arthur', 'Darrius'], 'General': ['Joseph', 'Latha']}\n"
     ]
    }
   ],
   "source": [
    "# Defining another function to reverse the matching to Hospital-Resident pair from Resident-Hospital pair above\n",
    "def reverse(d):\n",
    "    \n",
    "    for k, v in d.items():\n",
    "        if v in dinv:\n",
    "            dinv[v].append(k)\n",
    "        else:\n",
    "            dinv[v]=[k]\n",
    "    return dinv\n",
    "dinv={}\n",
    "#Calling the function to get the Hospital-Resident pair\n",
    "reverse(residentMatches)\n",
    "\n",
    "hospital_final_matches={}\n",
    "for hosp in hospitalChoice.keys():\n",
    "    if hosp not in residentMatches.values():\n",
    "        hospital_final_matches[hosp]=['','']\n",
    "    else:\n",
    "        \n",
    "        hospital_final_matches[hosp]=dinv[hosp]\n",
    "\n",
    "print(hospital_final_matches)"
   ]
  },
  {
   "cell_type": "code",
   "execution_count": 67,
   "metadata": {},
   "outputs": [
    {
     "data": {
      "text/html": [
       "<div>\n",
       "<style scoped>\n",
       "    .dataframe tbody tr th:only-of-type {\n",
       "        vertical-align: middle;\n",
       "    }\n",
       "\n",
       "    .dataframe tbody tr th {\n",
       "        vertical-align: top;\n",
       "    }\n",
       "\n",
       "    .dataframe thead th {\n",
       "        text-align: right;\n",
       "    }\n",
       "</style>\n",
       "<table border=\"1\" class=\"dataframe\">\n",
       "  <thead>\n",
       "    <tr style=\"text-align: right;\">\n",
       "      <th></th>\n",
       "      <th>0</th>\n",
       "      <th>1</th>\n",
       "    </tr>\n",
       "  </thead>\n",
       "  <tbody>\n",
       "    <tr>\n",
       "      <th>City</th>\n",
       "      <td>Arthur</td>\n",
       "      <td>Darrius</td>\n",
       "    </tr>\n",
       "    <tr>\n",
       "      <th>General</th>\n",
       "      <td>Joseph</td>\n",
       "      <td>Latha</td>\n",
       "    </tr>\n",
       "    <tr>\n",
       "      <th>Mercy</th>\n",
       "      <td></td>\n",
       "      <td></td>\n",
       "    </tr>\n",
       "  </tbody>\n",
       "</table>\n",
       "</div>"
      ],
      "text/plain": [
       "              0        1\n",
       "City     Arthur  Darrius\n",
       "General  Joseph    Latha\n",
       "Mercy                   "
      ]
     },
     "execution_count": 67,
     "metadata": {},
     "output_type": "execute_result"
    }
   ],
   "source": [
    "# Converting the output of the dictionay to dataframe which finally prints the stable matching.\n",
    "dataframe=pd.concat({k:pd.Series(v) for k, v in hospital_final_matches.items()}).unstack().astype(object).sort_index()\n",
    "\n",
    "\n",
    "dataframe"
   ]
  },
  {
   "cell_type": "code",
   "execution_count": 68,
   "metadata": {},
   "outputs": [],
   "source": [
    "# Redirecting the output of the stable matching into a external csv file.\n",
    "dataframe.to_csv ('output_file.csv', header=None)"
   ]
  }
 ],
 "metadata": {
  "kernelspec": {
   "display_name": "Python 3",
   "language": "python",
   "name": "python3"
  },
  "language_info": {
   "codemirror_mode": {
    "name": "ipython",
    "version": 3
   },
   "file_extension": ".py",
   "mimetype": "text/x-python",
   "name": "python",
   "nbconvert_exporter": "python",
   "pygments_lexer": "ipython3",
   "version": "3.7.3"
  }
 },
 "nbformat": 4,
 "nbformat_minor": 2
}
